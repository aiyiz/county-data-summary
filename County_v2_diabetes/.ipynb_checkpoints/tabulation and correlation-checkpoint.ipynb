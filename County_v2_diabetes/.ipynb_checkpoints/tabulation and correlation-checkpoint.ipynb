{
 "cells": [
  {
   "cell_type": "code",
   "execution_count": 1,
   "metadata": {},
   "outputs": [],
   "source": [
    "#import packages\n",
    "import pandas as pd\n",
    "import numpy as np\n",
    "import scipy as sp #https://docs.scipy.org/doc/scipy-0.14.0/reference/generated/scipy.stats.pearsonr.html\n",
    "\n",
    "import matplotlib.pyplot as plt\n",
    "import seaborn as sns"
   ]
  },
  {
   "cell_type": "code",
   "execution_count": 2,
   "metadata": {},
   "outputs": [],
   "source": [
    "#read in county and drop unrelated variables \n",
    "df = pd.read_csv('~/Documents/County_v2_diabetes/cleaned.csv')\n",
    "df=df.drop(columns=['Unnamed: 0'])\n",
    "df=df.drop(columns=['5-Digit FIPS Code'])\n",
    "#df=df.drop(columns=['state_county'])\n",
    "#http://www.countyhealthrankings.org/explore-health-rankings/what-and-why-we-rank/health-factors/health-behaviors/sexual-activity/teen-births\n",
    "\n",
    "#clean county data state county var to match with click through rate data\n",
    "df['state_county']=df['state_county'].str.upper()\n",
    "df['state_county']=df['state_county'].str.replace(\" COUNTY\", \"\")"
   ]
  },
  {
   "cell_type": "code",
   "execution_count": 3,
   "metadata": {},
   "outputs": [],
   "source": [
    "#read in click data from snowflake\n",
    "res = pd.read_csv('~/Documents/County_v2_diabetes/result.csv')\n",
    "res_click = pd.read_csv('~/Documents/County_v2_diabetes/result_click.csv')\n",
    "\n",
    "#merge click denom and nominator data and compute click through rate \n",
    "res_all=res.merge(res_click, left_on='COUNTY_STATE', right_on='COUNTY_STATE', how='left' )\n",
    "res_all['rate']=res_all['NUM_CLICK']/res_all['NUM_ALL']"
   ]
  },
  {
   "cell_type": "code",
   "execution_count": 4,
   "metadata": {},
   "outputs": [],
   "source": [
    "#merge click through data with county data\n",
    "df_all=df.merge(res_all, left_on='state_county', right_on='COUNTY_STATE', how='inner')\n",
    "\n",
    "df_all=df_all.drop(columns=['state_county'])\n",
    "df_all=df_all.drop(columns=['NUM_ALL'])\n",
    "df_all=df_all.drop(columns=['NUM_CLICK'])"
   ]
  },
  {
   "cell_type": "code",
   "execution_count": 5,
   "metadata": {},
   "outputs": [],
   "source": [
    "#compute basic stats for merged data\n",
    "\n",
    "#availabe data size\n",
    "#aval=df_all.count()\n",
    "#aval=aval.drop(index=['COUNTY_STATE'])\n",
    "\n",
    "#mean\n",
    "mean_vec=df_all.mean()\n",
    "\n",
    "#standard deviation\n",
    "std_vec=df_all.std()\n",
    "\n",
    "#lower bound of confidence interval \n",
    "ci_l=mean_vec-std_vec\n",
    "\n",
    "#higher bound of confidence interval \n",
    "ci_h=mean_vec+std_vec"
   ]
  },
  {
   "cell_type": "code",
   "execution_count": 6,
   "metadata": {},
   "outputs": [],
   "source": [
    "#correlation between click through rate and each county measure \n",
    "correlation=[]\n",
    "p=[]\n",
    "aval=[]\n",
    "for i in range(df_all.shape[1]-2):\n",
    "    dat=pd.DataFrame([df_all.iloc[:, 72], df_all.iloc[:, i]]).T.dropna()#72 is outcome, and 0:70 are feature \n",
    "    correlation.append(round(sp.stats.pearsonr(dat.iloc[:,0], dat.iloc[:,1])[0],2))\n",
    "    p.append(round(sp.stats.pearsonr(dat.iloc[:,0], dat.iloc[:,1])[1],4))\n",
    "    aval.append(dat.shape[0])"
   ]
  },
  {
   "cell_type": "code",
   "execution_count": 7,
   "metadata": {},
   "outputs": [],
   "source": [
    "correlation.append(1)\n",
    "p.append(1)\n",
    "aval.append(0)"
   ]
  },
  {
   "cell_type": "code",
   "execution_count": 8,
   "metadata": {},
   "outputs": [],
   "source": [
    "correlation1=pd.Series(correlation)\n",
    "p1=pd.Series(p)\n",
    "aval1=pd.Series(aval)\n",
    "\n",
    "correlation1.index=df_all.drop(columns=['COUNTY_STATE']).columns\n",
    "p1.index=df_all.drop(columns=['COUNTY_STATE']).columns\n",
    "aval1.index=df_all.drop(columns=['COUNTY_STATE']).columns"
   ]
  },
  {
   "cell_type": "code",
   "execution_count": 9,
   "metadata": {},
   "outputs": [],
   "source": [
    "#put outputs together and select the features that has p val <0.05\n",
    "out=pd.concat([mean_vec, ci_l, ci_h, correlation1, aval1, p1], axis=1, sort=False) \n",
    "out.columns=['mean', 'CI_lower', 'CI_high', 'correlation', 'n', 'p value']\n",
    "out1=out #out1=out[out['p value']<0.05]\n",
    "out1=out1.sort_values('correlation',ascending=False)"
   ]
  },
  {
   "cell_type": "code",
   "execution_count": 10,
   "metadata": {},
   "outputs": [
    {
     "data": {
      "text/plain": [
       "(72, 6)"
      ]
     },
     "execution_count": 10,
     "metadata": {},
     "output_type": "execute_result"
    }
   ],
   "source": [
    "out1.shape"
   ]
  },
  {
   "cell_type": "code",
   "execution_count": 11,
   "metadata": {},
   "outputs": [],
   "source": [
    "out1.to_csv('out0820_diab.csv')"
   ]
  },
  {
   "cell_type": "code",
   "execution_count": null,
   "metadata": {},
   "outputs": [],
   "source": []
  },
  {
   "cell_type": "code",
   "execution_count": null,
   "metadata": {},
   "outputs": [],
   "source": []
  },
  {
   "cell_type": "code",
   "execution_count": null,
   "metadata": {},
   "outputs": [],
   "source": []
  },
  {
   "cell_type": "code",
   "execution_count": null,
   "metadata": {},
   "outputs": [],
   "source": []
  },
  {
   "cell_type": "code",
   "execution_count": null,
   "metadata": {},
   "outputs": [],
   "source": []
  },
  {
   "cell_type": "code",
   "execution_count": null,
   "metadata": {},
   "outputs": [],
   "source": []
  },
  {
   "cell_type": "code",
   "execution_count": null,
   "metadata": {},
   "outputs": [],
   "source": []
  },
  {
   "cell_type": "code",
   "execution_count": null,
   "metadata": {},
   "outputs": [],
   "source": []
  },
  {
   "cell_type": "code",
   "execution_count": null,
   "metadata": {},
   "outputs": [],
   "source": []
  },
  {
   "cell_type": "code",
   "execution_count": null,
   "metadata": {},
   "outputs": [],
   "source": []
  }
 ],
 "metadata": {
  "kernelspec": {
   "display_name": "Python 3",
   "language": "python",
   "name": "python3"
  },
  "language_info": {
   "codemirror_mode": {
    "name": "ipython",
    "version": 3
   },
   "file_extension": ".py",
   "mimetype": "text/x-python",
   "name": "python",
   "nbconvert_exporter": "python",
   "pygments_lexer": "ipython3",
   "version": "3.6.5"
  }
 },
 "nbformat": 4,
 "nbformat_minor": 2
}
